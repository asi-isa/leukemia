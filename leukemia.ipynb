{
 "cells": [
  {
   "cell_type": "markdown",
   "metadata": {},
   "source": [
    "# Applied Statistical Learning in Python\n",
    "\n",
    "## Exercise: Leukemia Diagnosis"
   ]
  },
  {
   "cell_type": "markdown",
   "metadata": {},
   "source": [
    "You are given a dataset on 72 tissue samples taken from leukemia patients. The first 107 columns are gene expression measurements for genes known to be relevant to leukemia based on current knowledge. The last column is a label with 0 indicating that the patient had Acute Lymphoblastic Leukemia (ALL), while 1 indicating Acute Myeloid Leukemia (AML). Your task is to build a classification model to predict whether patients have ALL or AML based on their genetic expression values. Your model will be used as a diagnostic tool for new patients with leukemia."
   ]
  },
  {
   "cell_type": "code",
   "execution_count": 1,
   "metadata": {},
   "outputs": [],
   "source": [
    "import numpy as np\n",
    "import pandas as pd\n",
    "import scipy as sp\n",
    "from sklearn.model_selection import train_test_split, GridSearchCV\n",
    "from sklearn.linear_model import LogisticRegression\n",
    "from sklearn.ensemble import RandomForestClassifier\n",
    "from sklearn.svm import SVC\n",
    "from sklearn.metrics import roc_curve, auc\n",
    "import matplotlib\n",
    "import matplotlib.pyplot as plt\n",
    "%matplotlib inline"
   ]
  },
  {
   "cell_type": "markdown",
   "metadata": {},
   "source": [
    "## Q1. Read in the dataset `leukemia.csv`. Print the first 5 rows. Check its dimensions."
   ]
  },
  {
   "cell_type": "code",
   "execution_count": 2,
   "metadata": {},
   "outputs": [],
   "source": [
    "# Write your code here\n",
    "leukemia = pd.read_csv('leukemia.csv')"
   ]
  },
  {
   "cell_type": "code",
   "execution_count": 3,
   "metadata": {},
   "outputs": [
    {
     "data": {
      "text/html": [
       "<div>\n",
       "<style scoped>\n",
       "    .dataframe tbody tr th:only-of-type {\n",
       "        vertical-align: middle;\n",
       "    }\n",
       "\n",
       "    .dataframe tbody tr th {\n",
       "        vertical-align: top;\n",
       "    }\n",
       "\n",
       "    .dataframe thead th {\n",
       "        text-align: right;\n",
       "    }\n",
       "</style>\n",
       "<table border=\"1\" class=\"dataframe\">\n",
       "  <thead>\n",
       "    <tr style=\"text-align: right;\">\n",
       "      <th></th>\n",
       "      <th>M84371_rna1_s_at</th>\n",
       "      <th>J03779_at</th>\n",
       "      <th>X82240_rna1_at</th>\n",
       "      <th>U22376_cds2_s_at</th>\n",
       "      <th>U79262_at</th>\n",
       "      <th>M27396_s_at</th>\n",
       "      <th>J04948_at</th>\n",
       "      <th>M19508_xpt3_s_at</th>\n",
       "      <th>M22324_at</th>\n",
       "      <th>M23197_at</th>\n",
       "      <th>...</th>\n",
       "      <th>D88270_at</th>\n",
       "      <th>X15414_at</th>\n",
       "      <th>X63527_at</th>\n",
       "      <th>X67951_at</th>\n",
       "      <th>L13278_at</th>\n",
       "      <th>L14848_s_at</th>\n",
       "      <th>U46006_s_at</th>\n",
       "      <th>U49957_s_at</th>\n",
       "      <th>X01677_f_at</th>\n",
       "      <th>label</th>\n",
       "    </tr>\n",
       "  </thead>\n",
       "  <tbody>\n",
       "    <tr>\n",
       "      <th>0</th>\n",
       "      <td>1477</td>\n",
       "      <td>6109</td>\n",
       "      <td>2302</td>\n",
       "      <td>2037</td>\n",
       "      <td>936</td>\n",
       "      <td>-7</td>\n",
       "      <td>736</td>\n",
       "      <td>1182</td>\n",
       "      <td>729</td>\n",
       "      <td>168</td>\n",
       "      <td>...</td>\n",
       "      <td>2006</td>\n",
       "      <td>1076</td>\n",
       "      <td>20415</td>\n",
       "      <td>4907</td>\n",
       "      <td>67</td>\n",
       "      <td>144</td>\n",
       "      <td>214</td>\n",
       "      <td>-24</td>\n",
       "      <td>12869</td>\n",
       "      <td>0</td>\n",
       "    </tr>\n",
       "    <tr>\n",
       "      <th>1</th>\n",
       "      <td>2758</td>\n",
       "      <td>3545</td>\n",
       "      <td>-111</td>\n",
       "      <td>1497</td>\n",
       "      <td>636</td>\n",
       "      <td>40</td>\n",
       "      <td>323</td>\n",
       "      <td>493</td>\n",
       "      <td>-203</td>\n",
       "      <td>244</td>\n",
       "      <td>...</td>\n",
       "      <td>1803</td>\n",
       "      <td>992</td>\n",
       "      <td>25795</td>\n",
       "      <td>3255</td>\n",
       "      <td>216</td>\n",
       "      <td>424</td>\n",
       "      <td>325</td>\n",
       "      <td>19</td>\n",
       "      <td>17954</td>\n",
       "      <td>0</td>\n",
       "    </tr>\n",
       "    <tr>\n",
       "      <th>2</th>\n",
       "      <td>721</td>\n",
       "      <td>3047</td>\n",
       "      <td>116</td>\n",
       "      <td>2105</td>\n",
       "      <td>681</td>\n",
       "      <td>135</td>\n",
       "      <td>616</td>\n",
       "      <td>1002</td>\n",
       "      <td>42</td>\n",
       "      <td>154</td>\n",
       "      <td>...</td>\n",
       "      <td>3110</td>\n",
       "      <td>1443</td>\n",
       "      <td>22761</td>\n",
       "      <td>2871</td>\n",
       "      <td>100</td>\n",
       "      <td>-12</td>\n",
       "      <td>48</td>\n",
       "      <td>1</td>\n",
       "      <td>17102</td>\n",
       "      <td>0</td>\n",
       "    </tr>\n",
       "    <tr>\n",
       "      <th>3</th>\n",
       "      <td>779</td>\n",
       "      <td>2126</td>\n",
       "      <td>212</td>\n",
       "      <td>2805</td>\n",
       "      <td>672</td>\n",
       "      <td>56</td>\n",
       "      <td>416</td>\n",
       "      <td>811</td>\n",
       "      <td>424</td>\n",
       "      <td>287</td>\n",
       "      <td>...</td>\n",
       "      <td>1924</td>\n",
       "      <td>512</td>\n",
       "      <td>14571</td>\n",
       "      <td>601</td>\n",
       "      <td>176</td>\n",
       "      <td>-27</td>\n",
       "      <td>33</td>\n",
       "      <td>-35</td>\n",
       "      <td>17048</td>\n",
       "      <td>0</td>\n",
       "    </tr>\n",
       "    <tr>\n",
       "      <th>4</th>\n",
       "      <td>2338</td>\n",
       "      <td>4498</td>\n",
       "      <td>18727</td>\n",
       "      <td>6996</td>\n",
       "      <td>1087</td>\n",
       "      <td>93</td>\n",
       "      <td>363</td>\n",
       "      <td>777</td>\n",
       "      <td>289</td>\n",
       "      <td>222</td>\n",
       "      <td>...</td>\n",
       "      <td>10157</td>\n",
       "      <td>3395</td>\n",
       "      <td>21771</td>\n",
       "      <td>7201</td>\n",
       "      <td>461</td>\n",
       "      <td>210</td>\n",
       "      <td>755</td>\n",
       "      <td>-39</td>\n",
       "      <td>12692</td>\n",
       "      <td>0</td>\n",
       "    </tr>\n",
       "  </tbody>\n",
       "</table>\n",
       "<p>5 rows × 108 columns</p>\n",
       "</div>"
      ],
      "text/plain": [
       "   M84371_rna1_s_at  J03779_at  X82240_rna1_at  U22376_cds2_s_at  U79262_at  \\\n",
       "0              1477       6109            2302              2037        936   \n",
       "1              2758       3545            -111              1497        636   \n",
       "2               721       3047             116              2105        681   \n",
       "3               779       2126             212              2805        672   \n",
       "4              2338       4498           18727              6996       1087   \n",
       "\n",
       "   M27396_s_at  J04948_at  M19508_xpt3_s_at  M22324_at  M23197_at  ...  \\\n",
       "0           -7        736              1182        729        168  ...   \n",
       "1           40        323               493       -203        244  ...   \n",
       "2          135        616              1002         42        154  ...   \n",
       "3           56        416               811        424        287  ...   \n",
       "4           93        363               777        289        222  ...   \n",
       "\n",
       "   D88270_at  X15414_at  X63527_at  X67951_at  L13278_at  L14848_s_at  \\\n",
       "0       2006       1076      20415       4907         67          144   \n",
       "1       1803        992      25795       3255        216          424   \n",
       "2       3110       1443      22761       2871        100          -12   \n",
       "3       1924        512      14571        601        176          -27   \n",
       "4      10157       3395      21771       7201        461          210   \n",
       "\n",
       "   U46006_s_at  U49957_s_at  X01677_f_at  label  \n",
       "0          214          -24        12869      0  \n",
       "1          325           19        17954      0  \n",
       "2           48            1        17102      0  \n",
       "3           33          -35        17048      0  \n",
       "4          755          -39        12692      0  \n",
       "\n",
       "[5 rows x 108 columns]"
      ]
     },
     "execution_count": 3,
     "metadata": {},
     "output_type": "execute_result"
    }
   ],
   "source": [
    "leukemia.head(5)"
   ]
  },
  {
   "cell_type": "code",
   "execution_count": 4,
   "metadata": {},
   "outputs": [
    {
     "data": {
      "text/plain": [
       "(72, 108)"
      ]
     },
     "execution_count": 4,
     "metadata": {},
     "output_type": "execute_result"
    }
   ],
   "source": [
    "leukemia.shape"
   ]
  },
  {
   "cell_type": "code",
   "execution_count": 5,
   "metadata": {},
   "outputs": [],
   "source": [
    "X = leukemia.drop('label',axis=1)\n",
    "y = leukemia['label']"
   ]
  },
  {
   "cell_type": "markdown",
   "metadata": {},
   "source": [
    "## Q2. Split the data into training (67%) and testing (33%) sets. Check their dimensions."
   ]
  },
  {
   "cell_type": "code",
   "execution_count": 6,
   "metadata": {},
   "outputs": [],
   "source": [
    "# Write your code here\n",
    "X_train, X_test, y_train, y_test = train_test_split(X, y, test_size=0.33, random_state=42)"
   ]
  },
  {
   "cell_type": "code",
   "execution_count": 7,
   "metadata": {},
   "outputs": [
    {
     "name": "stdout",
     "output_type": "stream",
     "text": [
      "X_train shape: (48, 107)\n",
      "y_train shape: (48,)\n",
      "X_test shape: (24, 107)\n",
      "y_test shape: (24,)\n"
     ]
    }
   ],
   "source": [
    "print('X_train shape:', X_train.shape)\n",
    "print('y_train shape:', y_train.shape)\n",
    "print('X_test shape:', X_test.shape)\n",
    "print('y_test shape:', y_test.shape)"
   ]
  },
  {
   "cell_type": "markdown",
   "metadata": {},
   "source": [
    "## Q3. Train 3 separate models using logistic regression, random forest and support vector machines. Compare their overall test accuracies, as well as test accuracies for predicting ALL and AML."
   ]
  },
  {
   "cell_type": "code",
   "execution_count": 8,
   "metadata": {},
   "outputs": [],
   "source": [
    "# function for scoring the overall and by-class test accuracy of a given model\n",
    "score = lambda model, x_test, y_test: pd.Series([model.score(x_test, y_test), \n",
    "                                                 model.score(x_test[y_test==0], y_test[y_test==0]),\n",
    "                                                 model.score(x_test[y_test==1], y_test[y_test==1])],\n",
    "                                                index=['Overall test accuracy', 'Test accuracy on ALL', 'Test accuracy on AML'])\n",
    "\n",
    "def score_and_params(model, X_test, y_test):\n",
    "    return pd.Series([\n",
    "        model.score(X_test, y_test), \n",
    "        model.score(X_test[y_test==0], y_test[y_test==0]),\n",
    "        model.score(X_test[y_test==1], y_test[y_test==1]),\n",
    "        model.best_params_\n",
    "        ],\n",
    "        index=['Overall test accuracy', 'Test accuracy on ALL', 'Test accuracy on AML', 'best_params_'])\n",
    "    "
   ]
  },
  {
   "cell_type": "code",
   "execution_count": 9,
   "metadata": {},
   "outputs": [
    {
     "name": "stdout",
     "output_type": "stream",
     "text": [
      "LR:\n",
      " \tOverall test accuracy: 0.75\n",
      "\tTest accuracy on ALL: 0.6842105263157895\n",
      "\tTest accuracy on AML: 1.0\n",
      "\n",
      "RF:\n",
      " \tOverall test accuracy: 0.9166666666666666\n",
      "\tTest accuracy on ALL: 0.8947368421052632\n",
      "\tTest accuracy on AML: 1.0\n",
      "\n",
      "SVM:\n",
      " \tOverall test accuracy: 0.875\n",
      "\tTest accuracy on ALL: 0.8947368421052632\n",
      "\tTest accuracy on AML: 0.8\n"
     ]
    },
    {
     "data": {
      "text/html": [
       "<div>\n",
       "<style scoped>\n",
       "    .dataframe tbody tr th:only-of-type {\n",
       "        vertical-align: middle;\n",
       "    }\n",
       "\n",
       "    .dataframe tbody tr th {\n",
       "        vertical-align: top;\n",
       "    }\n",
       "\n",
       "    .dataframe thead th {\n",
       "        text-align: right;\n",
       "    }\n",
       "</style>\n",
       "<table border=\"1\" class=\"dataframe\">\n",
       "  <thead>\n",
       "    <tr style=\"text-align: right;\">\n",
       "      <th></th>\n",
       "      <th>Overall test accuracy</th>\n",
       "      <th>Test accuracy on ALL</th>\n",
       "      <th>Test accuracy on AML</th>\n",
       "    </tr>\n",
       "  </thead>\n",
       "  <tbody>\n",
       "    <tr>\n",
       "      <th>lr_score</th>\n",
       "      <td>0.750000</td>\n",
       "      <td>0.684211</td>\n",
       "      <td>1.0</td>\n",
       "    </tr>\n",
       "    <tr>\n",
       "      <th>rf_score</th>\n",
       "      <td>0.916667</td>\n",
       "      <td>0.894737</td>\n",
       "      <td>1.0</td>\n",
       "    </tr>\n",
       "    <tr>\n",
       "      <th>svm_score</th>\n",
       "      <td>0.875000</td>\n",
       "      <td>0.894737</td>\n",
       "      <td>0.8</td>\n",
       "    </tr>\n",
       "  </tbody>\n",
       "</table>\n",
       "</div>"
      ],
      "text/plain": [
       "           Overall test accuracy  Test accuracy on ALL  Test accuracy on AML\n",
       "lr_score                0.750000              0.684211                   1.0\n",
       "rf_score                0.916667              0.894737                   1.0\n",
       "svm_score               0.875000              0.894737                   0.8"
      ]
     },
     "execution_count": 9,
     "metadata": {},
     "output_type": "execute_result"
    }
   ],
   "source": [
    "# Write your code here\n",
    "lr = LogisticRegression()\n",
    "rf = RandomForestClassifier()\n",
    "svm = SVC()\n",
    "\n",
    "lr.fit(X_train,y_train)\n",
    "rf.fit(X_train,y_train)\n",
    "svm.fit(X_train,y_train)\n",
    "\n",
    "lr_score = score(lr, X_test, y_test)\n",
    "rf_score = score(rf, X_test, y_test)\n",
    "svm_score = score(svm, X_test, y_test)\n",
    "\n",
    "print('LR:\\n', f'\\t{lr_score.index[0]}: {lr_score[0]}\\n\\t{lr_score.index[1]}: {lr_score[1]}\\n\\t{lr_score.index[2]}: {lr_score[2]}')\n",
    "print()\n",
    "print('RF:\\n', f'\\t{rf_score.index[0]}: {rf_score[0]}\\n\\t{rf_score.index[1]}: {rf_score[1]}\\n\\t{rf_score.index[2]}: {rf_score[2]}')\n",
    "print()\n",
    "print('SVM:\\n', f'\\t{svm_score.index[0]}: {svm_score[0]}\\n\\t{svm_score.index[1]}: {svm_score[1]}\\n\\t{svm_score.index[2]}: {svm_score[2]}')\n",
    "\n",
    "score_df = pd.DataFrame(columns=lr_score.index)\n",
    "\n",
    "score_df.loc['lr_score'] = lr_score\n",
    "score_df.loc['rf_score'] = rf_score\n",
    "score_df.loc['svm_score'] = svm_score\n",
    "\n",
    "score_df"
   ]
  },
  {
   "cell_type": "markdown",
   "metadata": {},
   "source": [
    "## Q4. Use 3-fold cross-validation to find the best number and maximum depth of trees for the random forest model. Use 3-fold cross-validation to find the best kernel and regularization parameter `C` for the SVM model."
   ]
  },
  {
   "cell_type": "code",
   "execution_count": 10,
   "metadata": {},
   "outputs": [
    {
     "data": {
      "text/plain": [
       "{'C': 1.0,\n",
       " 'break_ties': False,\n",
       " 'cache_size': 200,\n",
       " 'class_weight': None,\n",
       " 'coef0': 0.0,\n",
       " 'decision_function_shape': 'ovr',\n",
       " 'degree': 3,\n",
       " 'gamma': 'scale',\n",
       " 'kernel': 'rbf',\n",
       " 'max_iter': -1,\n",
       " 'probability': False,\n",
       " 'random_state': None,\n",
       " 'shrinking': True,\n",
       " 'tol': 0.001,\n",
       " 'verbose': False}"
      ]
     },
     "execution_count": 10,
     "metadata": {},
     "output_type": "execute_result"
    }
   ],
   "source": [
    "svm.get_params()"
   ]
  },
  {
   "cell_type": "code",
   "execution_count": 11,
   "metadata": {},
   "outputs": [
    {
     "data": {
      "text/plain": [
       "{'bootstrap': True,\n",
       " 'ccp_alpha': 0.0,\n",
       " 'class_weight': None,\n",
       " 'criterion': 'gini',\n",
       " 'max_depth': None,\n",
       " 'max_features': 'auto',\n",
       " 'max_leaf_nodes': None,\n",
       " 'max_samples': None,\n",
       " 'min_impurity_decrease': 0.0,\n",
       " 'min_samples_leaf': 1,\n",
       " 'min_samples_split': 2,\n",
       " 'min_weight_fraction_leaf': 0.0,\n",
       " 'n_estimators': 100,\n",
       " 'n_jobs': None,\n",
       " 'oob_score': False,\n",
       " 'random_state': None,\n",
       " 'verbose': 0,\n",
       " 'warm_start': False}"
      ]
     },
     "execution_count": 11,
     "metadata": {},
     "output_type": "execute_result"
    }
   ],
   "source": [
    "rf.get_params()"
   ]
  },
  {
   "cell_type": "code",
   "execution_count": 12,
   "metadata": {},
   "outputs": [
    {
     "data": {
      "text/html": [
       "<div>\n",
       "<style scoped>\n",
       "    .dataframe tbody tr th:only-of-type {\n",
       "        vertical-align: middle;\n",
       "    }\n",
       "\n",
       "    .dataframe tbody tr th {\n",
       "        vertical-align: top;\n",
       "    }\n",
       "\n",
       "    .dataframe thead th {\n",
       "        text-align: right;\n",
       "    }\n",
       "</style>\n",
       "<table border=\"1\" class=\"dataframe\">\n",
       "  <thead>\n",
       "    <tr style=\"text-align: right;\">\n",
       "      <th></th>\n",
       "      <th>Overall test accuracy</th>\n",
       "      <th>Test accuracy on ALL</th>\n",
       "      <th>Test accuracy on AML</th>\n",
       "      <th>best_params_</th>\n",
       "    </tr>\n",
       "  </thead>\n",
       "  <tbody>\n",
       "    <tr>\n",
       "      <th>rf_cv</th>\n",
       "      <td>0.916667</td>\n",
       "      <td>0.894737</td>\n",
       "      <td>1.0</td>\n",
       "      <td>{'max_depth': 1, 'n_estimators': 21}</td>\n",
       "    </tr>\n",
       "    <tr>\n",
       "      <th>svm_cv</th>\n",
       "      <td>0.916667</td>\n",
       "      <td>0.894737</td>\n",
       "      <td>1.0</td>\n",
       "      <td>{'C': 9}</td>\n",
       "    </tr>\n",
       "  </tbody>\n",
       "</table>\n",
       "</div>"
      ],
      "text/plain": [
       "        Overall test accuracy  Test accuracy on ALL  Test accuracy on AML  \\\n",
       "rf_cv                0.916667              0.894737                   1.0   \n",
       "svm_cv               0.916667              0.894737                   1.0   \n",
       "\n",
       "                                best_params_  \n",
       "rf_cv   {'max_depth': 1, 'n_estimators': 21}  \n",
       "svm_cv                              {'C': 9}  "
      ]
     },
     "execution_count": 12,
     "metadata": {},
     "output_type": "execute_result"
    }
   ],
   "source": [
    "# Write your code here\n",
    "# 'class_weight': ['balanced', 'balanced_subsample', 'None']\n",
    "rf_cv = GridSearchCV(estimator=rf,param_grid={'max_depth': range(1,6),'n_estimators': range(1,100)},cv=3)\n",
    "rf_cv.fit(X_train,y_train)\n",
    "\n",
    "svm_cv = GridSearchCV(estimator=svm,param_grid={'C': range(1,15)},cv=3)\n",
    "svm_cv.fit(X_train,y_train)\n",
    "\n",
    "rf_cv_score = score_and_params(rf_cv,X_test,y_test)\n",
    "svm_cv_score = score_and_params(svm_cv,X_test,y_test)\n",
    "\n",
    "cv_score_df = pd.DataFrame(columns=rf_cv_score.index)\n",
    "\n",
    "cv_score_df.loc['rf_cv'] = rf_cv_score\n",
    "cv_score_df.loc['svm_cv'] = svm_cv_score\n",
    "\n",
    "cv_score_df"
   ]
  },
  {
   "cell_type": "markdown",
   "metadata": {},
   "source": [
    "## Q5. Plot Receiver Operating Characteristic (ROC) curves for the 3 models in a graph and compare their areas under the curve (AUC). Use parameters tuned from above."
   ]
  },
  {
   "cell_type": "code",
   "execution_count": 17,
   "metadata": {},
   "outputs": [
    {
     "data": {
      "image/png": "[encoded data removed]",
      "text/plain": [
       "<Figure size 432x288 with 1 Axes>"
      ]
     },
     "metadata": {
      "needs_background": "light"
     },
     "output_type": "display_data"
    }
   ],
   "source": [
    "# Write your code here\n",
    "\n",
    "fpr = dict()\n",
    "tpr = dict()\n",
    "roc_auc = dict()\n",
    "\n",
    "# random forest\n",
    "rf = RandomForestClassifier(class_weight='balanced', n_estimators=36, max_depth=2)\n",
    "rf_probas = rf.fit(X_train, y_train).predict_proba(X_test)\n",
    "fpr[\"RF\"], tpr[\"RF\"], _ = roc_curve(y_test, rf_probas[:, 1])\n",
    "roc_auc[\"RF\"] = auc(fpr[\"RF\"], tpr[\"RF\"])\n",
    "\n",
    "# svm\n",
    "svm = SVC(class_weight='balanced', kernel='linear', C=9)\n",
    "svm_probas = svm.fit(X_train, y_train).decision_function(X_test)\n",
    "fpr[\"SVM\"], tpr[\"SVM\"], _ = roc_curve(y_test, svm_probas)\n",
    "roc_auc[\"SVM\"] = auc(fpr[\"SVM\"], tpr[\"SVM\"])\n",
    "\n",
    "# plot\n",
    "plt.figure()\n",
    "plt.plot(fpr[\"RF\"], tpr[\"RF\"], color='darkviolet', lw=2, label='RF (AUC = %0.2f)' % roc_auc[\"RF\"])\n",
    "plt.plot(fpr[\"SVM\"], tpr[\"SVM\"], color='darkorange', lw=2, label='SVM (AUC = %0.2f)' % roc_auc[\"SVM\"])\n",
    "plt.plot([0, 1], [0, 1], color='navy', lw=2, linestyle='--')\n",
    "plt.xlabel('False Positive Rate')\n",
    "plt.ylabel('True Positive Rate')\n",
    "plt.title('ROC Curves')\n",
    "plt.legend(loc=\"lower right\")\n",
    "plt.show()"
   ]
  },
  {
   "cell_type": "markdown",
   "metadata": {},
   "source": [
    "## Q6. Choose which model you would use for the diagnostic tool and explain your choice."
   ]
  },
  {
   "cell_type": "markdown",
   "metadata": {},
   "source": [
    "<i>Write your answer here.</i>"
   ]
  },
  {
   "cell_type": "markdown",
   "metadata": {
    "collapsed": true
   },
   "source": [
    "## Q7. Visualize the top 10 most predictive genes and their relative importance in the random forest model."
   ]
  },
  {
   "cell_type": "code",
   "execution_count": 14,
   "metadata": {},
   "outputs": [
    {
     "data": {
      "image/png": "[encoded data removed]",
      "text/plain": [
       "<Figure size 432x288 with 1 Axes>"
      ]
     },
     "metadata": {
      "needs_background": "light"
     },
     "output_type": "display_data"
    }
   ],
   "source": [
    "# Write your code here\n",
    "\n",
    "# obtain feature importance list and sort\n",
    "importances = rf.feature_importances_\n",
    "indices = np.argsort(importances)\n",
    "top5_indices = indices[-5:]\n",
    "\n",
    "# extract gene names\n",
    "features = leukemia.columns\n",
    "\n",
    "# plot\n",
    "plt.title('Top 5 Predictive Features')\n",
    "plt.barh(range(len(top5_indices)), importances[top5_indices], color='blue', align='center')\n",
    "plt.yticks(range(len(top5_indices)), features[top5_indices])\n",
    "plt.xlabel('Relative Importance')\n",
    "plt.show()"
   ]
  }
 ],
 "metadata": {
  "anaconda-cloud": {},
  "kernelspec": {
   "display_name": "Python 3 (ipykernel)",
   "language": "python",
   "name": "python3"
  },
  "language_info": {
   "codemirror_mode": {
    "name": "ipython",
    "version": 3
   },
   "file_extension": ".py",
   "mimetype": "text/x-python",
   "name": "python",
   "nbconvert_exporter": "python",
   "pygments_lexer": "ipython3",
   "version": "3.8.10"
  }
 },
 "nbformat": 4,
 "nbformat_minor": 1
}
